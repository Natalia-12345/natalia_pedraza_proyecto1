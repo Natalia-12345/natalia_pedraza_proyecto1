{
 "cells": [
  {
   "cell_type": "markdown",
   "metadata": {},
   "source": [
    "# ENTREGA #1 DEL PROYECTO\n",
    "\n",
    "### Luisa Fernanda Hernandez Serrato , Laura Daniela Hurtado Davila y Natalia Pedraza Bastidas\n",
    "\n",
    "### Visualización para ciencia de datos con python\n"
   ]
  },
  {
   "cell_type": "code",
   "execution_count": 2,
   "metadata": {},
   "outputs": [],
   "source": [
    "import pandas as pd\n",
    "import numpy as np\n",
    "pd.set_option('display.max_columns', None) #Mostrar todas las columnas\n",
    "import seaborn as sns\n",
    "import matplotlib as plt\n",
    "import matplotlib.pyplot as plt\n",
    "import altair as alt\n",
    "from vega_datasets import data"
   ]
  },
  {
   "cell_type": "markdown",
   "metadata": {},
   "source": [
    "Esta base de datos muestra la evolución de la pandemia de COVID-19 en Castilla y León, una comunidad autonoma en España, esta evolución se muestra en las diferentes gerencias del territorio así como en los centros de salud de estas gerencias diariamentes desde el 29 de febrero del 2020 hasta el 10 de marzo del 2021, día cuando se descargo la base.\n",
    "\n",
    "Estos datos se obtubieron de los datos abiertos de la Junta de Castilla y León, se pueden descargar [en este link](https://analisis.datosabiertos.jcyl.es/explore/dataset/tasa-enfermos-acumulados-por-areas-de-salud/table/?disjunctive.zbs_geo&sort=-fecha).  "
   ]
  },
  {
   "cell_type": "code",
   "execution_count": 3,
   "metadata": {},
   "outputs": [
    {
     "data": {
      "text/html": [
       "<div>\n",
       "<style scoped>\n",
       "    .dataframe tbody tr th:only-of-type {\n",
       "        vertical-align: middle;\n",
       "    }\n",
       "\n",
       "    .dataframe tbody tr th {\n",
       "        vertical-align: top;\n",
       "    }\n",
       "\n",
       "    .dataframe thead th {\n",
       "        text-align: right;\n",
       "    }\n",
       "</style>\n",
       "<table border=\"1\" class=\"dataframe\">\n",
       "  <thead>\n",
       "    <tr style=\"text-align: right;\">\n",
       "      <th></th>\n",
       "      <th>FECHA</th>\n",
       "      <th>GERENCIA</th>\n",
       "      <th>NOMBREGERENCIA</th>\n",
       "      <th>CS</th>\n",
       "      <th>CENTRO</th>\n",
       "      <th>TOTALENFERMEDAD</th>\n",
       "      <th>TSI</th>\n",
       "      <th>TASAx100</th>\n",
       "      <th>x_geo</th>\n",
       "      <th>y_geo</th>\n",
       "      <th>zbs_geo</th>\n",
       "      <th>TOTALENFERMEDAD_7DIAS</th>\n",
       "      <th>TASAx100_7DIAS</th>\n",
       "      <th>TOTALENFERMEDAD_14DIAS</th>\n",
       "      <th>TASAx100_14DIAS</th>\n",
       "      <th>PROVINCIA</th>\n",
       "      <th>TIPO_CENTRO</th>\n",
       "      <th>PCR_REALIZADOS</th>\n",
       "      <th>TASAx100_PCR_REALIZADOS</th>\n",
       "      <th>PCR_POSITIVOS</th>\n",
       "      <th>TASAx10000_PCR_POSITIVOS</th>\n",
       "      <th>PCR_POSITIVOS_SINTOMAS</th>\n",
       "      <th>TASAx10000_PCR_POSITIVOS_SINTOMAS</th>\n",
       "      <th>PCR_POSITIVOS_SINTOMAS_7DIAS</th>\n",
       "      <th>TASAPCR_POSITIVOS_SINTOMASx10000_7DIAS</th>\n",
       "      <th>PCR_POSITIVOS_SINTOMAS_14DIAS</th>\n",
       "      <th>TASAPCR_POSITIVOS_SINTOMASx10000_14DIAS</th>\n",
       "      <th>SOSPECHA_TRANSMISION_COMUNITARIA</th>\n",
       "      <th>Posición</th>\n",
       "      <th>MUNICIPIO</th>\n",
       "    </tr>\n",
       "  </thead>\n",
       "  <tbody>\n",
       "    <tr>\n",
       "      <th>0</th>\n",
       "      <td>2021-03-10</td>\n",
       "      <td>1701</td>\n",
       "      <td>Gerencia de Ávila</td>\n",
       "      <td>170112</td>\n",
       "      <td>C.S. FONTIVEROS</td>\n",
       "      <td>0</td>\n",
       "      <td>2464</td>\n",
       "      <td>0.000000</td>\n",
       "      <td>-5.002617</td>\n",
       "      <td>40.922458</td>\n",
       "      <td>FONTIVEROS</td>\n",
       "      <td>0.0</td>\n",
       "      <td>0.000000</td>\n",
       "      <td>1.0</td>\n",
       "      <td>0.040584</td>\n",
       "      <td>Ávila</td>\n",
       "      <td>Rural</td>\n",
       "      <td>0</td>\n",
       "      <td>0.000000</td>\n",
       "      <td>0</td>\n",
       "      <td>0.0</td>\n",
       "      <td>0</td>\n",
       "      <td>0.0</td>\n",
       "      <td>0.0</td>\n",
       "      <td>0.000000</td>\n",
       "      <td>0.0</td>\n",
       "      <td>0.000000</td>\n",
       "      <td>NaN</td>\n",
       "      <td>40.9224581,-5.0026168</td>\n",
       "      <td>CABEZAS DEL POZO/CRESPOS/FLORES DE AVILA/FUENT...</td>\n",
       "    </tr>\n",
       "    <tr>\n",
       "      <th>1</th>\n",
       "      <td>2021-03-10</td>\n",
       "      <td>1701</td>\n",
       "      <td>Gerencia de Ávila</td>\n",
       "      <td>170116</td>\n",
       "      <td>C.S. MOMBELTRAN</td>\n",
       "      <td>0</td>\n",
       "      <td>2985</td>\n",
       "      <td>0.000000</td>\n",
       "      <td>-4.996585</td>\n",
       "      <td>40.276448</td>\n",
       "      <td>MOMBELTRAN</td>\n",
       "      <td>0.0</td>\n",
       "      <td>0.000000</td>\n",
       "      <td>0.0</td>\n",
       "      <td>0.000000</td>\n",
       "      <td>Ávila</td>\n",
       "      <td>Rural</td>\n",
       "      <td>1</td>\n",
       "      <td>0.033501</td>\n",
       "      <td>0</td>\n",
       "      <td>0.0</td>\n",
       "      <td>0</td>\n",
       "      <td>0.0</td>\n",
       "      <td>0.0</td>\n",
       "      <td>0.000000</td>\n",
       "      <td>0.0</td>\n",
       "      <td>0.000000</td>\n",
       "      <td>NaN</td>\n",
       "      <td>40.2764479,-4.996585</td>\n",
       "      <td>MOMBELTRAN/SAN ESTEBAN DEL VALLE/SANTA CRUZ DE...</td>\n",
       "    </tr>\n",
       "    <tr>\n",
       "      <th>2</th>\n",
       "      <td>2021-03-10</td>\n",
       "      <td>1701</td>\n",
       "      <td>Gerencia de Ávila</td>\n",
       "      <td>170117</td>\n",
       "      <td>C.S. PIEDRAHITA</td>\n",
       "      <td>0</td>\n",
       "      <td>4674</td>\n",
       "      <td>0.000000</td>\n",
       "      <td>-5.308102</td>\n",
       "      <td>40.542362</td>\n",
       "      <td>PIEDRAHITA</td>\n",
       "      <td>4.0</td>\n",
       "      <td>0.085580</td>\n",
       "      <td>7.0</td>\n",
       "      <td>0.149765</td>\n",
       "      <td>Ávila</td>\n",
       "      <td>Rural</td>\n",
       "      <td>5</td>\n",
       "      <td>0.106975</td>\n",
       "      <td>0</td>\n",
       "      <td>0.0</td>\n",
       "      <td>0</td>\n",
       "      <td>0.0</td>\n",
       "      <td>3.0</td>\n",
       "      <td>6.418485</td>\n",
       "      <td>5.0</td>\n",
       "      <td>10.697475</td>\n",
       "      <td>NaN</td>\n",
       "      <td>40.5423616,-5.308102</td>\n",
       "      <td>AREVALILLO/CASAS DEL PUERTO/MARTINEZ/MESEGAR D...</td>\n",
       "    </tr>\n",
       "    <tr>\n",
       "      <th>3</th>\n",
       "      <td>2021-03-10</td>\n",
       "      <td>1701</td>\n",
       "      <td>Gerencia de Ávila</td>\n",
       "      <td>170121</td>\n",
       "      <td>C.S. MUÑICO</td>\n",
       "      <td>0</td>\n",
       "      <td>1195</td>\n",
       "      <td>0.000000</td>\n",
       "      <td>-5.100693</td>\n",
       "      <td>40.706767</td>\n",
       "      <td>MUÑICO</td>\n",
       "      <td>0.0</td>\n",
       "      <td>0.000000</td>\n",
       "      <td>0.0</td>\n",
       "      <td>0.000000</td>\n",
       "      <td>Ávila</td>\n",
       "      <td>Rural</td>\n",
       "      <td>0</td>\n",
       "      <td>0.000000</td>\n",
       "      <td>0</td>\n",
       "      <td>0.0</td>\n",
       "      <td>0</td>\n",
       "      <td>0.0</td>\n",
       "      <td>0.0</td>\n",
       "      <td>0.000000</td>\n",
       "      <td>0.0</td>\n",
       "      <td>0.000000</td>\n",
       "      <td>NaN</td>\n",
       "      <td>40.706767,-5.1006928</td>\n",
       "      <td>CABEZAS DEL VILLAR/GALLEGOS DE SOBRINOS/MANJAB...</td>\n",
       "    </tr>\n",
       "    <tr>\n",
       "      <th>4</th>\n",
       "      <td>2021-03-10</td>\n",
       "      <td>1702</td>\n",
       "      <td>Gerencia de Burgos</td>\n",
       "      <td>170201</td>\n",
       "      <td>C.S. ARANDA NORTE</td>\n",
       "      <td>2</td>\n",
       "      <td>19902</td>\n",
       "      <td>0.010049</td>\n",
       "      <td>-3.655508</td>\n",
       "      <td>41.689122</td>\n",
       "      <td>ARANDA NORTE</td>\n",
       "      <td>7.0</td>\n",
       "      <td>0.035172</td>\n",
       "      <td>16.0</td>\n",
       "      <td>0.080394</td>\n",
       "      <td>Burgos</td>\n",
       "      <td>Rural</td>\n",
       "      <td>5</td>\n",
       "      <td>0.025123</td>\n",
       "      <td>0</td>\n",
       "      <td>0.0</td>\n",
       "      <td>0</td>\n",
       "      <td>0.0</td>\n",
       "      <td>2.0</td>\n",
       "      <td>1.004924</td>\n",
       "      <td>5.0</td>\n",
       "      <td>2.512310</td>\n",
       "      <td>NaN</td>\n",
       "      <td>41.6891216,-3.6555077</td>\n",
       "      <td>ARANDA DE DUERO</td>\n",
       "    </tr>\n",
       "  </tbody>\n",
       "</table>\n",
       "</div>"
      ],
      "text/plain": [
       "        FECHA  GERENCIA      NOMBREGERENCIA      CS             CENTRO  \\\n",
       "0  2021-03-10      1701   Gerencia de Ávila  170112    C.S. FONTIVEROS   \n",
       "1  2021-03-10      1701   Gerencia de Ávila  170116    C.S. MOMBELTRAN   \n",
       "2  2021-03-10      1701   Gerencia de Ávila  170117    C.S. PIEDRAHITA   \n",
       "3  2021-03-10      1701   Gerencia de Ávila  170121        C.S. MUÑICO   \n",
       "4  2021-03-10      1702  Gerencia de Burgos  170201  C.S. ARANDA NORTE   \n",
       "\n",
       "   TOTALENFERMEDAD    TSI  TASAx100     x_geo      y_geo       zbs_geo  \\\n",
       "0                0   2464  0.000000 -5.002617  40.922458    FONTIVEROS   \n",
       "1                0   2985  0.000000 -4.996585  40.276448    MOMBELTRAN   \n",
       "2                0   4674  0.000000 -5.308102  40.542362    PIEDRAHITA   \n",
       "3                0   1195  0.000000 -5.100693  40.706767        MUÑICO   \n",
       "4                2  19902  0.010049 -3.655508  41.689122  ARANDA NORTE   \n",
       "\n",
       "   TOTALENFERMEDAD_7DIAS  TASAx100_7DIAS  TOTALENFERMEDAD_14DIAS  \\\n",
       "0                    0.0        0.000000                     1.0   \n",
       "1                    0.0        0.000000                     0.0   \n",
       "2                    4.0        0.085580                     7.0   \n",
       "3                    0.0        0.000000                     0.0   \n",
       "4                    7.0        0.035172                    16.0   \n",
       "\n",
       "   TASAx100_14DIAS PROVINCIA TIPO_CENTRO  PCR_REALIZADOS  \\\n",
       "0         0.040584     Ávila       Rural               0   \n",
       "1         0.000000     Ávila       Rural               1   \n",
       "2         0.149765     Ávila       Rural               5   \n",
       "3         0.000000     Ávila       Rural               0   \n",
       "4         0.080394    Burgos       Rural               5   \n",
       "\n",
       "   TASAx100_PCR_REALIZADOS  PCR_POSITIVOS  TASAx10000_PCR_POSITIVOS  \\\n",
       "0                 0.000000              0                       0.0   \n",
       "1                 0.033501              0                       0.0   \n",
       "2                 0.106975              0                       0.0   \n",
       "3                 0.000000              0                       0.0   \n",
       "4                 0.025123              0                       0.0   \n",
       "\n",
       "   PCR_POSITIVOS_SINTOMAS  TASAx10000_PCR_POSITIVOS_SINTOMAS  \\\n",
       "0                       0                                0.0   \n",
       "1                       0                                0.0   \n",
       "2                       0                                0.0   \n",
       "3                       0                                0.0   \n",
       "4                       0                                0.0   \n",
       "\n",
       "   PCR_POSITIVOS_SINTOMAS_7DIAS  TASAPCR_POSITIVOS_SINTOMASx10000_7DIAS  \\\n",
       "0                           0.0                                0.000000   \n",
       "1                           0.0                                0.000000   \n",
       "2                           3.0                                6.418485   \n",
       "3                           0.0                                0.000000   \n",
       "4                           2.0                                1.004924   \n",
       "\n",
       "   PCR_POSITIVOS_SINTOMAS_14DIAS  TASAPCR_POSITIVOS_SINTOMASx10000_14DIAS  \\\n",
       "0                            0.0                                 0.000000   \n",
       "1                            0.0                                 0.000000   \n",
       "2                            5.0                                10.697475   \n",
       "3                            0.0                                 0.000000   \n",
       "4                            5.0                                 2.512310   \n",
       "\n",
       "   SOSPECHA_TRANSMISION_COMUNITARIA               Posición  \\\n",
       "0                               NaN  40.9224581,-5.0026168   \n",
       "1                               NaN   40.2764479,-4.996585   \n",
       "2                               NaN   40.5423616,-5.308102   \n",
       "3                               NaN   40.706767,-5.1006928   \n",
       "4                               NaN  41.6891216,-3.6555077   \n",
       "\n",
       "                                           MUNICIPIO  \n",
       "0  CABEZAS DEL POZO/CRESPOS/FLORES DE AVILA/FUENT...  \n",
       "1  MOMBELTRAN/SAN ESTEBAN DEL VALLE/SANTA CRUZ DE...  \n",
       "2  AREVALILLO/CASAS DEL PUERTO/MARTINEZ/MESEGAR D...  \n",
       "3  CABEZAS DEL VILLAR/GALLEGOS DE SOBRINOS/MANJAB...  \n",
       "4                                    ARANDA DE DUERO  "
      ]
     },
     "execution_count": 3,
     "metadata": {},
     "output_type": "execute_result"
    }
   ],
   "source": [
    "df_TEAAS = pd.read_csv('tasa-enfermos-acumulados-por-areas-de-salud.csv', \n",
    "                 sep = ';',\n",
    "                 thousands=',', decimal='.',\n",
    "                 skip_blank_lines=True,\n",
    "                 low_memory = False,\n",
    "                 dtype={\n",
    "                     'Nit Entidad': str\n",
    "                 })\n",
    "df_TEAAS.head()"
   ]
  },
  {
   "cell_type": "code",
   "execution_count": 4,
   "metadata": {
    "scrolled": true
   },
   "outputs": [
    {
     "name": "stdout",
     "output_type": "stream",
     "text": [
      "SECOP\n",
      "Filas:  92872\n",
      "Columnas:  30\n"
     ]
    }
   ],
   "source": [
    "print('SECOP')\n",
    "print('Filas: ', df_TEAAS.shape[0])\n",
    "print('Columnas: ', df_TEAAS.shape[1])"
   ]
  },
  {
   "cell_type": "markdown",
   "metadata": {},
   "source": [
    "### Abstraer ¿Qué? "
   ]
  },
  {
   "cell_type": "markdown",
   "metadata": {},
   "source": [
    "    ¿Qué?\n",
    "\n",
    "Este data set tiene un total de 92872 items con 30 atributos, el primer atributo es la fecha que expresa temporalidad, esta en el formato año, mes, día. Los atributos de Gerencia, Nombre de gerencia y provincia son categóricos al igual que el código del centro y el centro médico, zbs_geo es un atributo categórico que da el nombre de el municipio donde se encuentra el centro médico. \n",
    "\n",
    "El total de enfermedad es un atributo ordenado cuantitativo. El atributo TSI describe la población de castilla y León con acceso al sistema público de salud por cada uno de los centros de salud de las gerencias, este datos se repite cada vez que se repite el centro de salud el dato se repite, por lo tanto es un atributo ordenado ordinal.\n",
    "\n",
    "Los atributos x_geo, y_geo y posición son los únicos atributos de posición del data set. El atributo de tipo de centro es un atributo categórico que dice si el centro médico se encuentra en una ubicación rural o urbana. El resto de variables son atributos ordenados cuantitativos, que se encargan de contar el número de enfermos en el centro médico, el número de puebas PCR realizadas en el día, el número de pruebas PCR positivas, y las respectivas tasas de cada 7 y 14 días de estas variables.\n",
    "\n",
    "Este es un data set dinámico ya que se encarga demostrar los datos cambiando en el tiempo.\n",
    "\n"
   ]
  },
  {
   "cell_type": "code",
   "execution_count": 5,
   "metadata": {},
   "outputs": [],
   "source": [
    "sns.set(rc={'figure.figsize':(12.7,8.6)})"
   ]
  },
  {
   "cell_type": "code",
   "execution_count": 6,
   "metadata": {},
   "outputs": [
    {
     "data": {
      "text/plain": [
       "Index(['FECHA', 'GERENCIA', 'NOMBREGERENCIA', 'CS', 'CENTRO',\n",
       "       'TOTALENFERMEDAD', 'TSI', 'TASAx100', 'x_geo', 'y_geo', 'zbs_geo',\n",
       "       'TOTALENFERMEDAD_7DIAS', 'TASAx100_7DIAS', 'TOTALENFERMEDAD_14DIAS',\n",
       "       'TASAx100_14DIAS', 'PROVINCIA', 'TIPO_CENTRO', 'PCR_REALIZADOS',\n",
       "       'TASAx100_PCR_REALIZADOS', 'PCR_POSITIVOS', 'TASAx10000_PCR_POSITIVOS',\n",
       "       'PCR_POSITIVOS_SINTOMAS', 'TASAx10000_PCR_POSITIVOS_SINTOMAS',\n",
       "       'PCR_POSITIVOS_SINTOMAS_7DIAS',\n",
       "       'TASAPCR_POSITIVOS_SINTOMASx10000_7DIAS',\n",
       "       'PCR_POSITIVOS_SINTOMAS_14DIAS',\n",
       "       'TASAPCR_POSITIVOS_SINTOMASx10000_14DIAS',\n",
       "       'SOSPECHA_TRANSMISION_COMUNITARIA', 'Posición', 'MUNICIPIO'],\n",
       "      dtype='object')"
      ]
     },
     "execution_count": 6,
     "metadata": {},
     "output_type": "execute_result"
    }
   ],
   "source": [
    "df_TEAAS.columns"
   ]
  },
  {
   "cell_type": "code",
   "execution_count": 7,
   "metadata": {},
   "outputs": [
    {
     "data": {
      "text/plain": [
       "Index(['FECHA', 'GERENCIA', 'NOMBREGERENCIA', 'CODIGOCENTRO', 'CENTRO',\n",
       "       'TOTALENFERMOS', 'TSI', 'TASAx100', 'x_geo', 'y_geo', 'UBICACION',\n",
       "       'TOTAL_7DIAS', 'TASAx100_7', 'TOTAL_14DIAS', 'TASAx100_14', 'PROVINCIA',\n",
       "       'TIPO_CENTRO', 'PCR_REALIZADOS', 'TASAx100_PCR_REALIZADOS',\n",
       "       'PCR_POSITIVOS', 'TASAx10000_PCR_POSITIVOS', 'PCR_POSITIVOS_SINTOMAS',\n",
       "       'TASAx10000_PCR_POSITIVOS_SINTOMAS', 'PCR_POSITIVOS_SINTOMAS_7',\n",
       "       'TASAPCR_POSITIVOS_SINTOMASx10000_7', 'PCR_POSITIVOS_SINTOMAS_14DIAS',\n",
       "       'TASAPCR_POSITIVOS_SINTOMASx10000_14',\n",
       "       'SOSPECHA_TRANSMISION_COMUNITARIA', 'POSICION', 'MUNICIPIO'],\n",
       "      dtype='object')"
      ]
     },
     "execution_count": 7,
     "metadata": {},
     "output_type": "execute_result"
    }
   ],
   "source": [
    "df_TEAAS.columns = ['FECHA', 'GERENCIA', 'NOMBREGERENCIA', 'CODIGOCENTRO', 'CENTRO', 'TOTALENFERMOS', 'TSI', 'TASAx100', 'x_geo',\n",
    "                   'y_geo', 'UBICACION', 'TOTAL_7DIAS', 'TASAx100_7', 'TOTAL_14DIAS', 'TASAx100_14', 'PROVINCIA', 'TIPO_CENTRO', 'PCR_REALIZADOS',\n",
    "       'TASAx100_PCR_REALIZADOS', 'PCR_POSITIVOS', 'TASAx10000_PCR_POSITIVOS',\n",
    "       'PCR_POSITIVOS_SINTOMAS', 'TASAx10000_PCR_POSITIVOS_SINTOMAS',\n",
    "       'PCR_POSITIVOS_SINTOMAS_7','TASAPCR_POSITIVOS_SINTOMASx10000_7', 'PCR_POSITIVOS_SINTOMAS_14DIAS',\n",
    "       'TASAPCR_POSITIVOS_SINTOMASx10000_14', 'SOSPECHA_TRANSMISION_COMUNITARIA', 'POSICION', 'MUNICIPIO' ]\n",
    "df_TEAAS.columns"
   ]
  },
  {
   "cell_type": "markdown",
   "metadata": {},
   "source": [
    "Se realizo una muestra de 5000 datos de nuestra base de datos que van a ser utilizados para el resto de procedimientos que se realizaran para esta entrega. "
   ]
  },
  {
   "cell_type": "code",
   "execution_count": 8,
   "metadata": {},
   "outputs": [
    {
     "data": {
      "text/html": [
       "<div>\n",
       "<style scoped>\n",
       "    .dataframe tbody tr th:only-of-type {\n",
       "        vertical-align: middle;\n",
       "    }\n",
       "\n",
       "    .dataframe tbody tr th {\n",
       "        vertical-align: top;\n",
       "    }\n",
       "\n",
       "    .dataframe thead th {\n",
       "        text-align: right;\n",
       "    }\n",
       "</style>\n",
       "<table border=\"1\" class=\"dataframe\">\n",
       "  <thead>\n",
       "    <tr style=\"text-align: right;\">\n",
       "      <th></th>\n",
       "      <th>FECHA</th>\n",
       "      <th>GERENCIA</th>\n",
       "      <th>NOMBREGERENCIA</th>\n",
       "      <th>CODIGOCENTRO</th>\n",
       "      <th>CENTRO</th>\n",
       "      <th>TOTALENFERMOS</th>\n",
       "      <th>TSI</th>\n",
       "      <th>TASAx100</th>\n",
       "      <th>x_geo</th>\n",
       "      <th>y_geo</th>\n",
       "      <th>UBICACION</th>\n",
       "      <th>TOTAL_7DIAS</th>\n",
       "      <th>TASAx100_7</th>\n",
       "      <th>TOTAL_14DIAS</th>\n",
       "      <th>TASAx100_14</th>\n",
       "      <th>PROVINCIA</th>\n",
       "      <th>TIPO_CENTRO</th>\n",
       "      <th>PCR_REALIZADOS</th>\n",
       "      <th>TASAx100_PCR_REALIZADOS</th>\n",
       "      <th>PCR_POSITIVOS</th>\n",
       "      <th>TASAx10000_PCR_POSITIVOS</th>\n",
       "      <th>PCR_POSITIVOS_SINTOMAS</th>\n",
       "      <th>TASAx10000_PCR_POSITIVOS_SINTOMAS</th>\n",
       "      <th>PCR_POSITIVOS_SINTOMAS_7</th>\n",
       "      <th>TASAPCR_POSITIVOS_SINTOMASx10000_7</th>\n",
       "      <th>PCR_POSITIVOS_SINTOMAS_14DIAS</th>\n",
       "      <th>TASAPCR_POSITIVOS_SINTOMASx10000_14</th>\n",
       "      <th>SOSPECHA_TRANSMISION_COMUNITARIA</th>\n",
       "      <th>POSICION</th>\n",
       "      <th>MUNICIPIO</th>\n",
       "    </tr>\n",
       "  </thead>\n",
       "  <tbody>\n",
       "    <tr>\n",
       "      <th>7686</th>\n",
       "      <td>2021-02-07</td>\n",
       "      <td>1710</td>\n",
       "      <td>Gerencia de Valladolid Este</td>\n",
       "      <td>171006</td>\n",
       "      <td>C.S. ISCAR</td>\n",
       "      <td>10</td>\n",
       "      <td>11287</td>\n",
       "      <td>0.088598</td>\n",
       "      <td>-4.539868</td>\n",
       "      <td>41.352756</td>\n",
       "      <td>ISCAR</td>\n",
       "      <td>80.0</td>\n",
       "      <td>0.708780</td>\n",
       "      <td>213.0</td>\n",
       "      <td>1.887127</td>\n",
       "      <td>Valladolid</td>\n",
       "      <td>Rural</td>\n",
       "      <td>1302</td>\n",
       "      <td>11.535395</td>\n",
       "      <td>14</td>\n",
       "      <td>12.403650</td>\n",
       "      <td>14</td>\n",
       "      <td>12.403650</td>\n",
       "      <td>95.0</td>\n",
       "      <td>84.167626</td>\n",
       "      <td>224.0</td>\n",
       "      <td>198.458404</td>\n",
       "      <td>NaN</td>\n",
       "      <td>41.3527561,-4.5398679</td>\n",
       "      <td>ISCAR/REMONDO/COGECES DE ISCAR/FUENTE EL OLMO ...</td>\n",
       "    </tr>\n",
       "    <tr>\n",
       "      <th>92712</th>\n",
       "      <td>2020-02-29</td>\n",
       "      <td>1701</td>\n",
       "      <td>Gerencia de Ávila</td>\n",
       "      <td>170109</td>\n",
       "      <td>C.S. BURGOHONDO</td>\n",
       "      <td>0</td>\n",
       "      <td>4590</td>\n",
       "      <td>0.000000</td>\n",
       "      <td>-4.838453</td>\n",
       "      <td>40.409223</td>\n",
       "      <td>BURGOHONDO</td>\n",
       "      <td>NaN</td>\n",
       "      <td>NaN</td>\n",
       "      <td>NaN</td>\n",
       "      <td>NaN</td>\n",
       "      <td>Ávila</td>\n",
       "      <td>Rural</td>\n",
       "      <td>0</td>\n",
       "      <td>0.000000</td>\n",
       "      <td>0</td>\n",
       "      <td>0.000000</td>\n",
       "      <td>0</td>\n",
       "      <td>0.000000</td>\n",
       "      <td>NaN</td>\n",
       "      <td>NaN</td>\n",
       "      <td>NaN</td>\n",
       "      <td>NaN</td>\n",
       "      <td>NaN</td>\n",
       "      <td>40.4092233,-4.8384527</td>\n",
       "      <td>NAVALACRUZ/NAVALOSA/NAVALMORAL/NAVALUENGA/SAN ...</td>\n",
       "    </tr>\n",
       "    <tr>\n",
       "      <th>4015</th>\n",
       "      <td>2021-02-22</td>\n",
       "      <td>1709</td>\n",
       "      <td>Gerencia de Valladolid Oeste</td>\n",
       "      <td>170920</td>\n",
       "      <td>C.S. TORDESILLAS</td>\n",
       "      <td>0</td>\n",
       "      <td>11728</td>\n",
       "      <td>0.000000</td>\n",
       "      <td>-5.071359</td>\n",
       "      <td>41.544779</td>\n",
       "      <td>TORDESILLAS</td>\n",
       "      <td>15.0</td>\n",
       "      <td>0.127899</td>\n",
       "      <td>42.0</td>\n",
       "      <td>0.358117</td>\n",
       "      <td>Valladolid</td>\n",
       "      <td>Rural</td>\n",
       "      <td>6</td>\n",
       "      <td>0.051160</td>\n",
       "      <td>0</td>\n",
       "      <td>0.000000</td>\n",
       "      <td>0</td>\n",
       "      <td>0.000000</td>\n",
       "      <td>14.0</td>\n",
       "      <td>11.937244</td>\n",
       "      <td>38.0</td>\n",
       "      <td>32.401091</td>\n",
       "      <td>NaN</td>\n",
       "      <td>41.5447792,-5.0713588</td>\n",
       "      <td>BARRUELO DEL VALLE/POLLOS/ROBLADILLO/SAN PELAY...</td>\n",
       "    </tr>\n",
       "    <tr>\n",
       "      <th>7226</th>\n",
       "      <td>2021-02-09</td>\n",
       "      <td>1701</td>\n",
       "      <td>Gerencia de Ávila</td>\n",
       "      <td>170107</td>\n",
       "      <td>C.S. AVILA SUR OESTE</td>\n",
       "      <td>4</td>\n",
       "      <td>14557</td>\n",
       "      <td>0.027478</td>\n",
       "      <td>-4.714662</td>\n",
       "      <td>40.636060</td>\n",
       "      <td>AVILA SUR OESTE</td>\n",
       "      <td>28.0</td>\n",
       "      <td>0.192347</td>\n",
       "      <td>78.0</td>\n",
       "      <td>0.535825</td>\n",
       "      <td>Ávila</td>\n",
       "      <td>Urbano</td>\n",
       "      <td>12</td>\n",
       "      <td>0.082435</td>\n",
       "      <td>4</td>\n",
       "      <td>2.747819</td>\n",
       "      <td>4</td>\n",
       "      <td>2.747819</td>\n",
       "      <td>24.0</td>\n",
       "      <td>16.486914</td>\n",
       "      <td>74.0</td>\n",
       "      <td>50.834650</td>\n",
       "      <td>NaN</td>\n",
       "      <td>40.6360601,-4.7146621</td>\n",
       "      <td>AVILA</td>\n",
       "    </tr>\n",
       "    <tr>\n",
       "      <th>62237</th>\n",
       "      <td>2020-07-02</td>\n",
       "      <td>1710</td>\n",
       "      <td>Gerencia de Valladolid Este</td>\n",
       "      <td>171016</td>\n",
       "      <td>C.S. PORTILLO</td>\n",
       "      <td>0</td>\n",
       "      <td>11564</td>\n",
       "      <td>0.000000</td>\n",
       "      <td>-4.572683</td>\n",
       "      <td>41.477436</td>\n",
       "      <td>PORTILLO</td>\n",
       "      <td>4.0</td>\n",
       "      <td>0.034590</td>\n",
       "      <td>12.0</td>\n",
       "      <td>0.103770</td>\n",
       "      <td>Valladolid</td>\n",
       "      <td>Rural</td>\n",
       "      <td>3</td>\n",
       "      <td>0.025943</td>\n",
       "      <td>0</td>\n",
       "      <td>0.000000</td>\n",
       "      <td>0</td>\n",
       "      <td>0.000000</td>\n",
       "      <td>0.0</td>\n",
       "      <td>0.000000</td>\n",
       "      <td>0.0</td>\n",
       "      <td>0.000000</td>\n",
       "      <td>NaN</td>\n",
       "      <td>41.4774359,-4.5726832</td>\n",
       "      <td>ALDEA DE SAN MIGUEL/ALDEAMAYOR DE SAN MARTIN/M...</td>\n",
       "    </tr>\n",
       "  </tbody>\n",
       "</table>\n",
       "</div>"
      ],
      "text/plain": [
       "            FECHA  GERENCIA                NOMBREGERENCIA  CODIGOCENTRO  \\\n",
       "7686   2021-02-07      1710   Gerencia de Valladolid Este        171006   \n",
       "92712  2020-02-29      1701             Gerencia de Ávila        170109   \n",
       "4015   2021-02-22      1709  Gerencia de Valladolid Oeste        170920   \n",
       "7226   2021-02-09      1701             Gerencia de Ávila        170107   \n",
       "62237  2020-07-02      1710   Gerencia de Valladolid Este        171016   \n",
       "\n",
       "                     CENTRO  TOTALENFERMOS    TSI  TASAx100     x_geo  \\\n",
       "7686             C.S. ISCAR             10  11287  0.088598 -4.539868   \n",
       "92712       C.S. BURGOHONDO              0   4590  0.000000 -4.838453   \n",
       "4015       C.S. TORDESILLAS              0  11728  0.000000 -5.071359   \n",
       "7226   C.S. AVILA SUR OESTE              4  14557  0.027478 -4.714662   \n",
       "62237         C.S. PORTILLO              0  11564  0.000000 -4.572683   \n",
       "\n",
       "           y_geo        UBICACION  TOTAL_7DIAS  TASAx100_7  TOTAL_14DIAS  \\\n",
       "7686   41.352756            ISCAR         80.0    0.708780         213.0   \n",
       "92712  40.409223       BURGOHONDO          NaN         NaN           NaN   \n",
       "4015   41.544779      TORDESILLAS         15.0    0.127899          42.0   \n",
       "7226   40.636060  AVILA SUR OESTE         28.0    0.192347          78.0   \n",
       "62237  41.477436         PORTILLO          4.0    0.034590          12.0   \n",
       "\n",
       "       TASAx100_14   PROVINCIA TIPO_CENTRO  PCR_REALIZADOS  \\\n",
       "7686      1.887127  Valladolid       Rural            1302   \n",
       "92712          NaN       Ávila       Rural               0   \n",
       "4015      0.358117  Valladolid       Rural               6   \n",
       "7226      0.535825       Ávila      Urbano              12   \n",
       "62237     0.103770  Valladolid       Rural               3   \n",
       "\n",
       "       TASAx100_PCR_REALIZADOS  PCR_POSITIVOS  TASAx10000_PCR_POSITIVOS  \\\n",
       "7686                 11.535395             14                 12.403650   \n",
       "92712                 0.000000              0                  0.000000   \n",
       "4015                  0.051160              0                  0.000000   \n",
       "7226                  0.082435              4                  2.747819   \n",
       "62237                 0.025943              0                  0.000000   \n",
       "\n",
       "       PCR_POSITIVOS_SINTOMAS  TASAx10000_PCR_POSITIVOS_SINTOMAS  \\\n",
       "7686                       14                          12.403650   \n",
       "92712                       0                           0.000000   \n",
       "4015                        0                           0.000000   \n",
       "7226                        4                           2.747819   \n",
       "62237                       0                           0.000000   \n",
       "\n",
       "       PCR_POSITIVOS_SINTOMAS_7  TASAPCR_POSITIVOS_SINTOMASx10000_7  \\\n",
       "7686                       95.0                           84.167626   \n",
       "92712                       NaN                                 NaN   \n",
       "4015                       14.0                           11.937244   \n",
       "7226                       24.0                           16.486914   \n",
       "62237                       0.0                            0.000000   \n",
       "\n",
       "       PCR_POSITIVOS_SINTOMAS_14DIAS  TASAPCR_POSITIVOS_SINTOMASx10000_14  \\\n",
       "7686                           224.0                           198.458404   \n",
       "92712                            NaN                                  NaN   \n",
       "4015                            38.0                            32.401091   \n",
       "7226                            74.0                            50.834650   \n",
       "62237                            0.0                             0.000000   \n",
       "\n",
       "       SOSPECHA_TRANSMISION_COMUNITARIA               POSICION  \\\n",
       "7686                                NaN  41.3527561,-4.5398679   \n",
       "92712                               NaN  40.4092233,-4.8384527   \n",
       "4015                                NaN  41.5447792,-5.0713588   \n",
       "7226                                NaN  40.6360601,-4.7146621   \n",
       "62237                               NaN  41.4774359,-4.5726832   \n",
       "\n",
       "                                               MUNICIPIO  \n",
       "7686   ISCAR/REMONDO/COGECES DE ISCAR/FUENTE EL OLMO ...  \n",
       "92712  NAVALACRUZ/NAVALOSA/NAVALMORAL/NAVALUENGA/SAN ...  \n",
       "4015   BARRUELO DEL VALLE/POLLOS/ROBLADILLO/SAN PELAY...  \n",
       "7226                                               AVILA  \n",
       "62237  ALDEA DE SAN MIGUEL/ALDEAMAYOR DE SAN MARTIN/M...  "
      ]
     },
     "execution_count": 8,
     "metadata": {},
     "output_type": "execute_result"
    }
   ],
   "source": [
    "sample_TEAAS = df_TEAAS.sample(5000,random_state=1)\n",
    "sample_TEAAS.head()"
   ]
  },
  {
   "cell_type": "markdown",
   "metadata": {},
   "source": [
    "Como primer paso vemos los tipos de variables que tiene nuestro data set y revisamos si es necesario cambiar el tipo de alguna columna."
   ]
  },
  {
   "cell_type": "code",
   "execution_count": 9,
   "metadata": {},
   "outputs": [
    {
     "data": {
      "text/plain": [
       "FECHA                                   object\n",
       "GERENCIA                                 int64\n",
       "NOMBREGERENCIA                          object\n",
       "CODIGOCENTRO                             int64\n",
       "CENTRO                                  object\n",
       "TOTALENFERMOS                            int64\n",
       "TSI                                      int64\n",
       "TASAx100                               float64\n",
       "x_geo                                  float64\n",
       "y_geo                                  float64\n",
       "UBICACION                               object\n",
       "TOTAL_7DIAS                            float64\n",
       "TASAx100_7                             float64\n",
       "TOTAL_14DIAS                           float64\n",
       "TASAx100_14                            float64\n",
       "PROVINCIA                               object\n",
       "TIPO_CENTRO                             object\n",
       "PCR_REALIZADOS                           int64\n",
       "TASAx100_PCR_REALIZADOS                float64\n",
       "PCR_POSITIVOS                            int64\n",
       "TASAx10000_PCR_POSITIVOS               float64\n",
       "PCR_POSITIVOS_SINTOMAS                   int64\n",
       "TASAx10000_PCR_POSITIVOS_SINTOMAS      float64\n",
       "PCR_POSITIVOS_SINTOMAS_7               float64\n",
       "TASAPCR_POSITIVOS_SINTOMASx10000_7     float64\n",
       "PCR_POSITIVOS_SINTOMAS_14DIAS          float64\n",
       "TASAPCR_POSITIVOS_SINTOMASx10000_14    float64\n",
       "SOSPECHA_TRANSMISION_COMUNITARIA       float64\n",
       "POSICION                                object\n",
       "MUNICIPIO                               object\n",
       "dtype: object"
      ]
     },
     "execution_count": 9,
     "metadata": {},
     "output_type": "execute_result"
    }
   ],
   "source": [
    "sample_TEAAS.dtypes"
   ]
  },
  {
   "cell_type": "markdown",
   "metadata": {},
   "source": [
    "## Completitud"
   ]
  },
  {
   "cell_type": "code",
   "execution_count": 10,
   "metadata": {},
   "outputs": [
    {
     "name": "stdout",
     "output_type": "stream",
     "text": [
      "FECHA - 0.0% - 0\n",
      "GERENCIA - 0.0% - 0\n",
      "NOMBREGERENCIA - 0.0% - 0\n",
      "CODIGOCENTRO - 0.0% - 0\n",
      "CENTRO - 0.0% - 0\n",
      "TOTALENFERMOS - 0.0% - 0\n",
      "TSI - 0.0% - 0\n",
      "TASAx100 - 0.0% - 0\n",
      "x_geo - 0.0% - 0\n",
      "y_geo - 0.0% - 0\n",
      "UBICACION - 0.0% - 0\n",
      "TOTAL_7DIAS - 2.36% - 118\n",
      "TASAx100_7 - 2.36% - 118\n",
      "TOTAL_14DIAS - 4.1% - 205\n",
      "TASAx100_14 - 4.1% - 205\n",
      "PROVINCIA - 0.0% - 0\n",
      "TIPO_CENTRO - 0.0% - 0\n",
      "PCR_REALIZADOS - 0.0% - 0\n",
      "TASAx100_PCR_REALIZADOS - 0.0% - 0\n",
      "PCR_POSITIVOS - 0.0% - 0\n",
      "TASAx10000_PCR_POSITIVOS - 0.0% - 0\n",
      "PCR_POSITIVOS_SINTOMAS - 0.0% - 0\n",
      "TASAx10000_PCR_POSITIVOS_SINTOMAS - 0.0% - 0\n",
      "PCR_POSITIVOS_SINTOMAS_7 - 2.36% - 118\n",
      "TASAPCR_POSITIVOS_SINTOMASx10000_7 - 2.36% - 118\n",
      "PCR_POSITIVOS_SINTOMAS_14DIAS - 4.1% - 205\n",
      "TASAPCR_POSITIVOS_SINTOMASx10000_14 - 4.1% - 205\n",
      "SOSPECHA_TRANSMISION_COMUNITARIA - 76.56% - 3828\n",
      "POSICION - 0.0% - 0\n",
      "MUNICIPIO - 0.0% - 0\n"
     ]
    }
   ],
   "source": [
    "for col in sample_TEAAS.columns:\n",
    "    num_missing = sample_TEAAS[col].isnull().sum()\n",
    "    pct_missing = np.mean(sample_TEAAS[col].isnull())\n",
    "    #print(col,\" - \",round(pct_missing*100, 2),\"% - \",num_missing)\n",
    "    print('{} - {}% - {}'.format(col,round(pct_missing*100, 2),num_missing))"
   ]
  },
  {
   "cell_type": "markdown",
   "metadata": {},
   "source": [
    "La columna de sospecha de transmición comunitaria tiene en nuestra muestra un 76.56% de datos vacios, por lo tanto se eliminara de el data set para futuras operaciones. "
   ]
  },
  {
   "cell_type": "markdown",
   "metadata": {},
   "source": [
    "### Selección de columnas que usaremos para el análisis"
   ]
  },
  {
   "cell_type": "code",
   "execution_count": 11,
   "metadata": {
    "scrolled": false
   },
   "outputs": [
    {
     "data": {
      "text/html": [
       "<div>\n",
       "<style scoped>\n",
       "    .dataframe tbody tr th:only-of-type {\n",
       "        vertical-align: middle;\n",
       "    }\n",
       "\n",
       "    .dataframe tbody tr th {\n",
       "        vertical-align: top;\n",
       "    }\n",
       "\n",
       "    .dataframe thead th {\n",
       "        text-align: right;\n",
       "    }\n",
       "</style>\n",
       "<table border=\"1\" class=\"dataframe\">\n",
       "  <thead>\n",
       "    <tr style=\"text-align: right;\">\n",
       "      <th></th>\n",
       "      <th>FECHA</th>\n",
       "      <th>GERENCIA</th>\n",
       "      <th>NOMBREGERENCIA</th>\n",
       "      <th>CODIGOCENTRO</th>\n",
       "      <th>CENTRO</th>\n",
       "      <th>TOTALENFERMOS</th>\n",
       "      <th>TSI</th>\n",
       "      <th>PROVINCIA</th>\n",
       "      <th>TIPO_CENTRO</th>\n",
       "      <th>PCR_REALIZADOS</th>\n",
       "      <th>PCR_POSITIVOS</th>\n",
       "    </tr>\n",
       "  </thead>\n",
       "  <tbody>\n",
       "    <tr>\n",
       "      <th>7686</th>\n",
       "      <td>2021-02-07</td>\n",
       "      <td>1710</td>\n",
       "      <td>Gerencia de Valladolid Este</td>\n",
       "      <td>171006</td>\n",
       "      <td>C.S. ISCAR</td>\n",
       "      <td>10</td>\n",
       "      <td>11287</td>\n",
       "      <td>Valladolid</td>\n",
       "      <td>Rural</td>\n",
       "      <td>1302</td>\n",
       "      <td>14</td>\n",
       "    </tr>\n",
       "    <tr>\n",
       "      <th>92712</th>\n",
       "      <td>2020-02-29</td>\n",
       "      <td>1701</td>\n",
       "      <td>Gerencia de Ávila</td>\n",
       "      <td>170109</td>\n",
       "      <td>C.S. BURGOHONDO</td>\n",
       "      <td>0</td>\n",
       "      <td>4590</td>\n",
       "      <td>Ávila</td>\n",
       "      <td>Rural</td>\n",
       "      <td>0</td>\n",
       "      <td>0</td>\n",
       "    </tr>\n",
       "    <tr>\n",
       "      <th>4015</th>\n",
       "      <td>2021-02-22</td>\n",
       "      <td>1709</td>\n",
       "      <td>Gerencia de Valladolid Oeste</td>\n",
       "      <td>170920</td>\n",
       "      <td>C.S. TORDESILLAS</td>\n",
       "      <td>0</td>\n",
       "      <td>11728</td>\n",
       "      <td>Valladolid</td>\n",
       "      <td>Rural</td>\n",
       "      <td>6</td>\n",
       "      <td>0</td>\n",
       "    </tr>\n",
       "    <tr>\n",
       "      <th>7226</th>\n",
       "      <td>2021-02-09</td>\n",
       "      <td>1701</td>\n",
       "      <td>Gerencia de Ávila</td>\n",
       "      <td>170107</td>\n",
       "      <td>C.S. AVILA SUR OESTE</td>\n",
       "      <td>4</td>\n",
       "      <td>14557</td>\n",
       "      <td>Ávila</td>\n",
       "      <td>Urbano</td>\n",
       "      <td>12</td>\n",
       "      <td>4</td>\n",
       "    </tr>\n",
       "    <tr>\n",
       "      <th>62237</th>\n",
       "      <td>2020-07-02</td>\n",
       "      <td>1710</td>\n",
       "      <td>Gerencia de Valladolid Este</td>\n",
       "      <td>171016</td>\n",
       "      <td>C.S. PORTILLO</td>\n",
       "      <td>0</td>\n",
       "      <td>11564</td>\n",
       "      <td>Valladolid</td>\n",
       "      <td>Rural</td>\n",
       "      <td>3</td>\n",
       "      <td>0</td>\n",
       "    </tr>\n",
       "    <tr>\n",
       "      <th>...</th>\n",
       "      <td>...</td>\n",
       "      <td>...</td>\n",
       "      <td>...</td>\n",
       "      <td>...</td>\n",
       "      <td>...</td>\n",
       "      <td>...</td>\n",
       "      <td>...</td>\n",
       "      <td>...</td>\n",
       "      <td>...</td>\n",
       "      <td>...</td>\n",
       "      <td>...</td>\n",
       "    </tr>\n",
       "    <tr>\n",
       "      <th>2807</th>\n",
       "      <td>2021-02-27</td>\n",
       "      <td>1711</td>\n",
       "      <td>Gerencia de Zamora</td>\n",
       "      <td>171118</td>\n",
       "      <td>C.S. SANTIBAÑEZ VIDRIAL</td>\n",
       "      <td>0</td>\n",
       "      <td>2355</td>\n",
       "      <td>Zamora</td>\n",
       "      <td>Rural</td>\n",
       "      <td>1</td>\n",
       "      <td>0</td>\n",
       "    </tr>\n",
       "    <tr>\n",
       "      <th>66748</th>\n",
       "      <td>2020-06-13</td>\n",
       "      <td>1709</td>\n",
       "      <td>Gerencia de Valladolid Oeste</td>\n",
       "      <td>170902</td>\n",
       "      <td>C.S. ARTURO EYRIES</td>\n",
       "      <td>0</td>\n",
       "      <td>18958</td>\n",
       "      <td>Valladolid</td>\n",
       "      <td>Urbano</td>\n",
       "      <td>3</td>\n",
       "      <td>0</td>\n",
       "    </tr>\n",
       "    <tr>\n",
       "      <th>41414</th>\n",
       "      <td>2020-09-24</td>\n",
       "      <td>1702</td>\n",
       "      <td>Gerencia de Burgos</td>\n",
       "      <td>170206</td>\n",
       "      <td>C.S. CRISTOBAL ACOSTA</td>\n",
       "      <td>5</td>\n",
       "      <td>16584</td>\n",
       "      <td>Burgos</td>\n",
       "      <td>Urbano</td>\n",
       "      <td>31</td>\n",
       "      <td>6</td>\n",
       "    </tr>\n",
       "    <tr>\n",
       "      <th>79467</th>\n",
       "      <td>2020-04-23</td>\n",
       "      <td>1703</td>\n",
       "      <td>Gerencia de León</td>\n",
       "      <td>170312</td>\n",
       "      <td>C.S. ERAS DE RENUEVA</td>\n",
       "      <td>0</td>\n",
       "      <td>37509</td>\n",
       "      <td>León</td>\n",
       "      <td>Urbano</td>\n",
       "      <td>17</td>\n",
       "      <td>2</td>\n",
       "    </tr>\n",
       "    <tr>\n",
       "      <th>21691</th>\n",
       "      <td>2020-12-13</td>\n",
       "      <td>1706</td>\n",
       "      <td>Gerencia de Salamanca</td>\n",
       "      <td>170601</td>\n",
       "      <td>C.S. ALBA DE TORMES</td>\n",
       "      <td>0</td>\n",
       "      <td>12705</td>\n",
       "      <td>Salamanca</td>\n",
       "      <td>Rural</td>\n",
       "      <td>1</td>\n",
       "      <td>0</td>\n",
       "    </tr>\n",
       "  </tbody>\n",
       "</table>\n",
       "<p>5000 rows × 11 columns</p>\n",
       "</div>"
      ],
      "text/plain": [
       "            FECHA  GERENCIA                NOMBREGERENCIA  CODIGOCENTRO  \\\n",
       "7686   2021-02-07      1710   Gerencia de Valladolid Este        171006   \n",
       "92712  2020-02-29      1701             Gerencia de Ávila        170109   \n",
       "4015   2021-02-22      1709  Gerencia de Valladolid Oeste        170920   \n",
       "7226   2021-02-09      1701             Gerencia de Ávila        170107   \n",
       "62237  2020-07-02      1710   Gerencia de Valladolid Este        171016   \n",
       "...           ...       ...                           ...           ...   \n",
       "2807   2021-02-27      1711            Gerencia de Zamora        171118   \n",
       "66748  2020-06-13      1709  Gerencia de Valladolid Oeste        170902   \n",
       "41414  2020-09-24      1702            Gerencia de Burgos        170206   \n",
       "79467  2020-04-23      1703              Gerencia de León        170312   \n",
       "21691  2020-12-13      1706         Gerencia de Salamanca        170601   \n",
       "\n",
       "                        CENTRO  TOTALENFERMOS    TSI   PROVINCIA TIPO_CENTRO  \\\n",
       "7686                C.S. ISCAR             10  11287  Valladolid       Rural   \n",
       "92712          C.S. BURGOHONDO              0   4590       Ávila       Rural   \n",
       "4015          C.S. TORDESILLAS              0  11728  Valladolid       Rural   \n",
       "7226      C.S. AVILA SUR OESTE              4  14557       Ávila      Urbano   \n",
       "62237            C.S. PORTILLO              0  11564  Valladolid       Rural   \n",
       "...                        ...            ...    ...         ...         ...   \n",
       "2807   C.S. SANTIBAÑEZ VIDRIAL              0   2355      Zamora       Rural   \n",
       "66748       C.S. ARTURO EYRIES              0  18958  Valladolid      Urbano   \n",
       "41414    C.S. CRISTOBAL ACOSTA              5  16584      Burgos      Urbano   \n",
       "79467     C.S. ERAS DE RENUEVA              0  37509        León      Urbano   \n",
       "21691      C.S. ALBA DE TORMES              0  12705   Salamanca       Rural   \n",
       "\n",
       "       PCR_REALIZADOS  PCR_POSITIVOS  \n",
       "7686             1302             14  \n",
       "92712               0              0  \n",
       "4015                6              0  \n",
       "7226               12              4  \n",
       "62237               3              0  \n",
       "...               ...            ...  \n",
       "2807                1              0  \n",
       "66748               3              0  \n",
       "41414              31              6  \n",
       "79467              17              2  \n",
       "21691               1              0  \n",
       "\n",
       "[5000 rows x 11 columns]"
      ]
     },
     "execution_count": 11,
     "metadata": {},
     "output_type": "execute_result"
    }
   ],
   "source": [
    "columns = ['FECHA',\n",
    "          'GERENCIA',\n",
    "          'NOMBREGERENCIA',\n",
    "          'CODIGOCENTRO',\n",
    "          'CENTRO',\n",
    "          'TOTALENFERMOS',\n",
    "          'TSI',\n",
    "          'PROVINCIA',\n",
    "          'TIPO_CENTRO',\n",
    "          'PCR_REALIZADOS',\n",
    "          'PCR_POSITIVOS']\n",
    "TEAAS = sample_TEAAS.copy()\n",
    "TEAAS = sample_TEAAS[columns]\n",
    "TEAAS"
   ]
  },
  {
   "cell_type": "code",
   "execution_count": 12,
   "metadata": {},
   "outputs": [
    {
     "data": {
      "text/plain": [
       "FECHA             object\n",
       "GERENCIA           int64\n",
       "NOMBREGERENCIA    object\n",
       "CODIGOCENTRO       int64\n",
       "CENTRO            object\n",
       "TOTALENFERMOS      int64\n",
       "TSI                int64\n",
       "PROVINCIA         object\n",
       "TIPO_CENTRO       object\n",
       "PCR_REALIZADOS     int64\n",
       "PCR_POSITIVOS      int64\n",
       "dtype: object"
      ]
     },
     "execution_count": 12,
     "metadata": {},
     "output_type": "execute_result"
    }
   ],
   "source": [
    "TEAAS.dtypes"
   ]
  },
  {
   "cell_type": "code",
   "execution_count": 13,
   "metadata": {
    "scrolled": true
   },
   "outputs": [
    {
     "name": "stdout",
     "output_type": "stream",
     "text": [
      "FECHA - 0.0% - 0\n",
      "GERENCIA - 0.0% - 0\n",
      "NOMBREGERENCIA - 0.0% - 0\n",
      "CODIGOCENTRO - 0.0% - 0\n",
      "CENTRO - 0.0% - 0\n",
      "TOTALENFERMOS - 0.0% - 0\n",
      "TSI - 0.0% - 0\n",
      "PROVINCIA - 0.0% - 0\n",
      "TIPO_CENTRO - 0.0% - 0\n",
      "PCR_REALIZADOS - 0.0% - 0\n",
      "PCR_POSITIVOS - 0.0% - 0\n"
     ]
    }
   ],
   "source": [
    "for col in TEAAS.columns:\n",
    "    num_missing = TEAAS[col].isnull().sum()\n",
    "    pct_missing = np.mean(TEAAS[col].isnull())\n",
    "    #print(col,\" - \",round(pct_missing*100, 2),\"% - \",num_missing)\n",
    "    print('{} - {}% - {}'.format(col,round(pct_missing*100, 2),num_missing))"
   ]
  },
  {
   "cell_type": "markdown",
   "metadata": {},
   "source": [
    "En los atributos que seleccionamos para el análisis no hay datos faltanes, por lo tanto no hay que imputar datos perdidos."
   ]
  },
  {
   "cell_type": "markdown",
   "metadata": {},
   "source": [
    "## Coherencia\n",
    "\n",
    "### Variables duplicadas"
   ]
  },
  {
   "cell_type": "code",
   "execution_count": 14,
   "metadata": {},
   "outputs": [
    {
     "data": {
      "text/html": [
       "<div>\n",
       "<style scoped>\n",
       "    .dataframe tbody tr th:only-of-type {\n",
       "        vertical-align: middle;\n",
       "    }\n",
       "\n",
       "    .dataframe tbody tr th {\n",
       "        vertical-align: top;\n",
       "    }\n",
       "\n",
       "    .dataframe thead th {\n",
       "        text-align: right;\n",
       "    }\n",
       "</style>\n",
       "<table border=\"1\" class=\"dataframe\">\n",
       "  <thead>\n",
       "    <tr style=\"text-align: right;\">\n",
       "      <th></th>\n",
       "      <th>FECHA</th>\n",
       "      <th>GERENCIA</th>\n",
       "      <th>NOMBREGERENCIA</th>\n",
       "      <th>CODIGOCENTRO</th>\n",
       "      <th>CENTRO</th>\n",
       "      <th>TOTALENFERMOS</th>\n",
       "      <th>TSI</th>\n",
       "      <th>PROVINCIA</th>\n",
       "      <th>TIPO_CENTRO</th>\n",
       "      <th>PCR_REALIZADOS</th>\n",
       "      <th>PCR_POSITIVOS</th>\n",
       "    </tr>\n",
       "  </thead>\n",
       "  <tbody>\n",
       "  </tbody>\n",
       "</table>\n",
       "</div>"
      ],
      "text/plain": [
       "Empty DataFrame\n",
       "Columns: [FECHA, GERENCIA, NOMBREGERENCIA, CODIGOCENTRO, CENTRO, TOTALENFERMOS, TSI, PROVINCIA, TIPO_CENTRO, PCR_REALIZADOS, PCR_POSITIVOS]\n",
       "Index: []"
      ]
     },
     "execution_count": 14,
     "metadata": {},
     "output_type": "execute_result"
    }
   ],
   "source": [
    "TEAAS[TEAAS.duplicated()]"
   ]
  },
  {
   "cell_type": "markdown",
   "metadata": {},
   "source": [
    "El data set no tiene variables duplicadas"
   ]
  },
  {
   "cell_type": "markdown",
   "metadata": {},
   "source": [
    "## Consistencia"
   ]
  },
  {
   "cell_type": "markdown",
   "metadata": {},
   "source": [
    "El atributo de Fecha tiene tipo objeto, por lo cual la cambiaremos a tipo datetime"
   ]
  },
  {
   "cell_type": "code",
   "execution_count": 15,
   "metadata": {},
   "outputs": [
    {
     "data": {
      "text/plain": [
       "7686     2021-02-07\n",
       "92712    2020-02-29\n",
       "4015     2021-02-22\n",
       "7226     2021-02-09\n",
       "62237    2020-07-02\n",
       "Name: FECHA, dtype: object"
      ]
     },
     "execution_count": 15,
     "metadata": {},
     "output_type": "execute_result"
    }
   ],
   "source": [
    "TEAAS['FECHA'].head()"
   ]
  },
  {
   "cell_type": "code",
   "execution_count": 16,
   "metadata": {},
   "outputs": [
    {
     "name": "stderr",
     "output_type": "stream",
     "text": [
      "<ipython-input-16-8336a75b1b8d>:1: SettingWithCopyWarning: \n",
      "A value is trying to be set on a copy of a slice from a DataFrame.\n",
      "Try using .loc[row_indexer,col_indexer] = value instead\n",
      "\n",
      "See the caveats in the documentation: https://pandas.pydata.org/pandas-docs/stable/user_guide/indexing.html#returning-a-view-versus-a-copy\n",
      "  TEAAS['FECHA'] = pd.to_datetime(TEAAS['FECHA'],format='%Y/%m/%d')\n"
     ]
    },
    {
     "data": {
      "text/plain": [
       "7686    2021-02-07\n",
       "92712   2020-02-29\n",
       "4015    2021-02-22\n",
       "7226    2021-02-09\n",
       "62237   2020-07-02\n",
       "Name: FECHA, dtype: datetime64[ns]"
      ]
     },
     "execution_count": 16,
     "metadata": {},
     "output_type": "execute_result"
    }
   ],
   "source": [
    "TEAAS['FECHA'] = pd.to_datetime(TEAAS['FECHA'],format='%Y/%m/%d')\n",
    "TEAAS['FECHA'].head()"
   ]
  },
  {
   "cell_type": "markdown",
   "metadata": {},
   "source": [
    "* Visualización #1 hecha por Luisa Fernanda Hernandez "
   ]
  },
  {
   "cell_type": "code",
   "execution_count": 17,
   "metadata": {
    "scrolled": false
   },
   "outputs": [
    {
     "data": {
      "text/plain": [
       "<AxesSubplot:xlabel='TOTALENFERMOS', ylabel='NOMBREGERENCIA'>"
      ]
     },
     "execution_count": 17,
     "metadata": {},
     "output_type": "execute_result"
    },
    {
     "data": {
      "image/png": "[encoded data removed]",
      "text/plain": [
       "<Figure size 914.4x619.2 with 1 Axes>"
      ]
     },
     "metadata": {},
     "output_type": "display_data"
    }
   ],
   "source": [
    "sns.barplot(data = sample_TEAAS\n",
    "                ,x = \"TOTALENFERMOS\"\n",
    "                ,estimator = sum,\n",
    "                y = \"NOMBREGERENCIA\",\n",
    "                ci = None,orient=\"h\")\n"
   ]
  },
  {
   "cell_type": "markdown",
   "metadata": {},
   "source": [
    "    ¿Por qué?\n",
    "   \n",
    "El sustantivo es información con características las cuales son las siguientes ,los datos no necesitan de transformaciones dado que el gráfico es claro y preciso ,por otro lado muestra el número total de enfermos que estuvieron en los centros de salud de las diferentes provincias ,así mismo se puede evidenciar que verbo es explorar y comparar las siguientes gerencias : León y Salamanca presentaron mayor número de enfermos  ,mientras que en la gerencia de Ponferrada es la que tiene menos número de enfermos.\n",
    "\n",
    "    Marcas y Canales \n",
    "\n",
    "En la gráfica se observan dos variables con Marca de línea. La primera variable de categoría cuantitativa llamada: \"nombre gerencia\" que representa cada departamento del área de salud por provincia, estudiada en España. La segunda variable se nombra como \"Total Enfermos\" y representa la suma total de personas que llegan enfermas a los centros de salud de cada provincia, la variable \"Total Enfermos\" tiene canal de posición espacial horizontal muestras que la variable “Nombre Gerencia\" tiene canal de posición espacial vertical. Finalizando, el atributo categórico de \"Nombre Gerencia\" presenta canal de color tipo arcoíris.\n"
   ]
  },
  {
   "cell_type": "markdown",
   "metadata": {},
   "source": [
    "* Visualización #2 hecha por Natalia Pedraza Bastidas"
   ]
  },
  {
   "cell_type": "code",
   "execution_count": 18,
   "metadata": {},
   "outputs": [],
   "source": [
    "TEAAS_Valladolid = TEAAS[TEAAS['PROVINCIA']==\"Valladolid\"]\n",
    "v1=TEAAS_Valladolid['PCR_REALIZADOS'].sum()\n",
    "v2=TEAAS_Valladolid['PCR_POSITIVOS'].sum()\n",
    "TEAAS_Avila = TEAAS[TEAAS['PROVINCIA']==\"Ávila\"]\n",
    "a1=TEAAS_Avila['PCR_REALIZADOS'].sum()\n",
    "a2=TEAAS_Avila['PCR_POSITIVOS'].sum()\n",
    "TEAAS_Segovia = TEAAS[TEAAS['PROVINCIA']==\"Segovia\"]\n",
    "s1=TEAAS_Segovia['PCR_REALIZADOS'].sum()\n",
    "s2=TEAAS_Segovia['PCR_POSITIVOS'].sum()\n",
    "TEAAS_Burgos = TEAAS[TEAAS['PROVINCIA']==\"Burgos\"]\n",
    "b1=TEAAS_Burgos['PCR_REALIZADOS'].sum()\n",
    "b2=TEAAS_Burgos['PCR_POSITIVOS'].sum()\n",
    "TEAAS_Palencia = TEAAS[TEAAS['PROVINCIA']==\"Palencia\"]\n",
    "p1=TEAAS_Palencia['PCR_REALIZADOS'].sum()\n",
    "p2=TEAAS_Palencia['PCR_POSITIVOS'].sum()\n",
    "TEAAS_Leon = TEAAS[TEAAS['PROVINCIA']==\"León\"]\n",
    "l1=TEAAS_Leon['PCR_REALIZADOS'].sum()\n",
    "l2=TEAAS_Leon['PCR_POSITIVOS'].sum()\n",
    "TEAAS_Salamanca = TEAAS[TEAAS['PROVINCIA']==\"Salamanca\"]\n",
    "sa1=TEAAS_Salamanca['PCR_REALIZADOS'].sum()\n",
    "sa2=TEAAS_Salamanca['PCR_POSITIVOS'].sum()\n",
    "TEAAS_Soria = TEAAS[TEAAS['PROVINCIA']==\"Soria\"]\n",
    "so1=TEAAS_Soria['PCR_REALIZADOS'].sum()\n",
    "so2=TEAAS_Soria['PCR_POSITIVOS'].sum()\n",
    "TEAAS_Zamora = TEAAS[TEAAS['PROVINCIA']==\"Zamora\"]\n",
    "z1=TEAAS_Zamora['PCR_REALIZADOS'].sum()\n",
    "z2=TEAAS_Zamora['PCR_POSITIVOS'].sum()"
   ]
  },
  {
   "cell_type": "code",
   "execution_count": 19,
   "metadata": {
    "scrolled": true
   },
   "outputs": [
    {
     "data": {
      "text/plain": [
       "(13221, 2887, 5689, 6187, 5014, 13265, 8072, 2674, 3356)"
      ]
     },
     "execution_count": 19,
     "metadata": {},
     "output_type": "execute_result"
    }
   ],
   "source": [
    "realizada=(v1, a1, s1, b1, p1, l1, sa1, so1, z1)\n",
    "realizada"
   ]
  },
  {
   "cell_type": "code",
   "execution_count": 20,
   "metadata": {},
   "outputs": [
    {
     "data": {
      "text/plain": [
       "(2541, 563, 690, 1362, 1130, 2191, 1422, 465, 560)"
      ]
     },
     "execution_count": 20,
     "metadata": {},
     "output_type": "execute_result"
    }
   ],
   "source": [
    "positiva=(v2, a2, s2, b2, p2, l2, sa2, so2, z2)\n",
    "positiva"
   ]
  },
  {
   "cell_type": "code",
   "execution_count": 21,
   "metadata": {},
   "outputs": [
    {
     "data": {
      "image/png": "[encoded data removed]",
      "text/plain": [
       "<Figure size 914.4x619.2 with 1 Axes>"
      ]
     },
     "metadata": {},
     "output_type": "display_data"
    }
   ],
   "source": [
    "Provincia = ['Valladolid', 'Ávila', 'Segovia', 'Burgos', 'Palencia', 'León', 'Salamanca', 'Soria', 'Zamora']\n",
    "\n",
    "x = np.arange(len(Provincia))\n",
    "#tamaño de cada barra\n",
    "width = 0.4\n",
    " \n",
    "fig, ax = plt.subplots()\n",
    " \n",
    "#Generamos las barras para el conjunto de hombres\n",
    "rects1 = ax.bar(x - width/2, realizada, width, label='Pruebas realizadas')\n",
    "#Generamos las barras para el conjunto de mujeres\n",
    "rects2 = ax.bar(x + width/2, positiva, width, label='Pruebas positivas')\n",
    " \n",
    "#Añadimos las etiquetas de identificacion de valores en el grafico\n",
    "ax.set_ylabel('Número de pruebas')\n",
    "ax.set_title('Pruebas realizadas y positivas')\n",
    "ax.set_xticks(x)\n",
    "ax.set_xticklabels(Provincia)\n",
    "#Añadimos un legen() esto permite mmostrar con colores a que pertence cada valor.\n",
    "ax.legend()\n",
    " \n",
    "def autolabel(rects):\n",
    "    for rect in rects:\n",
    "        height = rect.get_height()\n",
    "        ax.annotate('{}'.format(height),\n",
    "                    xy=(rect.get_x() + rect.get_width() / 2, height),\n",
    "                    xytext=(0, 3),  # 3 points vertical offset\n",
    "                    textcoords=\"offset points\",\n",
    "                    ha='center', va='bottom')\n",
    "\n",
    "autolabel(rects1)\n",
    "autolabel(rects2)\n",
    "fig.tight_layout()\n",
    "plt.savefig('doble_barra.png')\n",
    "plt.show()"
   ]
  },
  {
   "cell_type": "markdown",
   "metadata": {},
   "source": [
    "\n",
    "    ¿Por qué?\n",
    "\n",
    "Con la gráfica se presenta la diferencia entre el número de pruebas PSC realizadas y las pruebas PCS que resultaron positivas en las diferentes provincias de Castilla y León, así  comparar las proporciones de estas los categorías. también se puede ver la similitud entre el conteo de pruebas, tanto realizadas como positivas de las provincias.\n",
    "\n",
    "    ¿Cómo?\n",
    "     \n",
    "Se utilizó un modismo de gráfico de barras, comparando la suma de las pruebas PCR realizadas en cada provincia con dos atributos cuantitativos y un atributo categórico clave, es un gráfico de barras alineado para poder comparar más claramente. \n",
    "\n",
    "Las marcas de este modismo son líneas que están representadas en barras horizontales usadas para mostrar el conteo de pruebas de las dos variables mostradas en la gráfica.\n",
    "Los canales usados son:\n",
    "\n",
    "* Canal de posición espacial vertical para los dos atributos cuantitativos que son las pruebas PCR realizadas y las pruebas PCR positivas.\n",
    "\n",
    "* Canal de posición espacial horizontal para el atributo categórico de las provincias.\n",
    "\n",
    "* Canal de color para las dos variables ordenadas cuantitativas, azul para las pruebas realizadas y naranja para las pruebas positivas.\n",
    "\n"
   ]
  },
  {
   "cell_type": "markdown",
   "metadata": {},
   "source": [
    "* Visualización #3 hecha por Laura Daniela Hurtado"
   ]
  },
  {
   "cell_type": "code",
   "execution_count": 22,
   "metadata": {},
   "outputs": [
    {
     "data": {
      "text/plain": [
       "Valladolid    829\n",
       "León          806\n",
       "Salamanca     737\n",
       "Burgos        705\n",
       "Palencia      446\n",
       "Ávila         439\n",
       "Zamora        423\n",
       "Segovia       337\n",
       "Soria         278\n",
       "Name: PROVINCIA, dtype: int64"
      ]
     },
     "execution_count": 22,
     "metadata": {},
     "output_type": "execute_result"
    }
   ],
   "source": [
    "TEAAS[\"PROVINCIA\"].value_counts()"
   ]
  },
  {
   "cell_type": "code",
   "execution_count": 23,
   "metadata": {},
   "outputs": [
    {
     "data": {
      "text/plain": [
       "Rural     3709\n",
       "Urbano    1291\n",
       "Name: TIPO_CENTRO, dtype: int64"
      ]
     },
     "execution_count": 23,
     "metadata": {},
     "output_type": "execute_result"
    }
   ],
   "source": [
    "TEAAS[\"TIPO_CENTRO\"].value_counts()"
   ]
  },
  {
   "cell_type": "code",
   "execution_count": 24,
   "metadata": {},
   "outputs": [
    {
     "data": {
      "text/html": [
       "<div>\n",
       "<style scoped>\n",
       "    .dataframe tbody tr th:only-of-type {\n",
       "        vertical-align: middle;\n",
       "    }\n",
       "\n",
       "    .dataframe tbody tr th {\n",
       "        vertical-align: top;\n",
       "    }\n",
       "\n",
       "    .dataframe thead th {\n",
       "        text-align: right;\n",
       "    }\n",
       "</style>\n",
       "<table border=\"1\" class=\"dataframe\">\n",
       "  <thead>\n",
       "    <tr style=\"text-align: right;\">\n",
       "      <th>PROVINCIA</th>\n",
       "      <th>Burgos</th>\n",
       "      <th>León</th>\n",
       "      <th>Palencia</th>\n",
       "      <th>Salamanca</th>\n",
       "      <th>Segovia</th>\n",
       "      <th>Soria</th>\n",
       "      <th>Valladolid</th>\n",
       "      <th>Zamora</th>\n",
       "      <th>Ávila</th>\n",
       "    </tr>\n",
       "    <tr>\n",
       "      <th>TIPO_CENTRO</th>\n",
       "      <th></th>\n",
       "      <th></th>\n",
       "      <th></th>\n",
       "      <th></th>\n",
       "      <th></th>\n",
       "      <th></th>\n",
       "      <th></th>\n",
       "      <th></th>\n",
       "      <th></th>\n",
       "    </tr>\n",
       "  </thead>\n",
       "  <tbody>\n",
       "    <tr>\n",
       "      <th>Rural</th>\n",
       "      <td>497</td>\n",
       "      <td>679</td>\n",
       "      <td>345</td>\n",
       "      <td>529</td>\n",
       "      <td>286</td>\n",
       "      <td>237</td>\n",
       "      <td>437</td>\n",
       "      <td>341</td>\n",
       "      <td>358</td>\n",
       "    </tr>\n",
       "    <tr>\n",
       "      <th>Urbano</th>\n",
       "      <td>208</td>\n",
       "      <td>127</td>\n",
       "      <td>101</td>\n",
       "      <td>208</td>\n",
       "      <td>51</td>\n",
       "      <td>41</td>\n",
       "      <td>392</td>\n",
       "      <td>82</td>\n",
       "      <td>81</td>\n",
       "    </tr>\n",
       "  </tbody>\n",
       "</table>\n",
       "</div>"
      ],
      "text/plain": [
       "PROVINCIA    Burgos  León  Palencia  Salamanca  Segovia  Soria  Valladolid  \\\n",
       "TIPO_CENTRO                                                                  \n",
       "Rural           497   679       345        529      286    237         437   \n",
       "Urbano          208   127       101        208       51     41         392   \n",
       "\n",
       "PROVINCIA    Zamora  Ávila  \n",
       "TIPO_CENTRO                 \n",
       "Rural           341    358  \n",
       "Urbano           82     81  "
      ]
     },
     "execution_count": 24,
     "metadata": {},
     "output_type": "execute_result"
    }
   ],
   "source": [
    "tab = pd.crosstab(TEAAS[\"TIPO_CENTRO\"],TEAAS[\"PROVINCIA\"])\n",
    "tab"
   ]
  },
  {
   "cell_type": "code",
   "execution_count": 25,
   "metadata": {},
   "outputs": [
    {
     "data": {
      "text/plain": [
       "Text(90.8, 0.5, 'Tipo Centro')"
      ]
     },
     "execution_count": 25,
     "metadata": {},
     "output_type": "execute_result"
    },
    {
     "data": {
      "image/png": "[encoded data removed]",
      "text/plain": [
       "<Figure size 914.4x619.2 with 2 Axes>"
      ]
     },
     "metadata": {},
     "output_type": "display_data"
    }
   ],
   "source": [
    "ax = sns.heatmap(tab, cmap=\"mako\"),plt.xlabel('Provincia'),\n",
    "plt.ylabel('Tipo Centro')"
   ]
  },
  {
   "cell_type": "markdown",
   "metadata": {},
   "source": [
    "    ¿Por qué?\n",
    "    \n",
    "La tarea que se requiere es analizar y presentar los tipos de centro en cada provincia, además tiene como objetivo comparar la cantidad de centros urbanos y rurales que hay por cada provincia. \n",
    "\n",
    "\n",
    "    ¿Cómo?\n",
    "    \n",
    "Para este tipo de datos que se van a graficar, debido a que en la gráfica no tienen ninguna diferencia en cuanto a tamaño, la mejor forma de presentarlos es mediante en mapa de calor y en el incluir la saturación de color. La marca que se utilizo fue la de área, aunque todos los rectángulos son del mismo tamaño y el canal fue el de la saturación de color para indicar en cuales provincias se encuentra la mayor cantidad de centros, ya sean urbanos o rurales\n"
   ]
  }
 ],
 "metadata": {
  "kernelspec": {
   "display_name": "Python 3",
   "language": "python",
   "name": "python3"
  },
  "language_info": {
   "codemirror_mode": {
    "name": "ipython",
    "version": 3
   },
   "file_extension": ".py",
   "mimetype": "text/x-python",
   "name": "python",
   "nbconvert_exporter": "python",
   "pygments_lexer": "ipython3",
   "version": "3.8.5"
  }
 },
 "nbformat": 4,
 "nbformat_minor": 4
}
